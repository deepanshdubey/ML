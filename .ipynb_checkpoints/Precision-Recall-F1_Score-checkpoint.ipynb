{
 "cells": [
  {
   "cell_type": "markdown",
   "id": "ac56e8a4",
   "metadata": {},
   "source": [
    "## Fetching Dataset"
   ]
  },
  {
   "cell_type": "code",
   "execution_count": 1,
   "id": "6c6438cc",
   "metadata": {},
   "outputs": [],
   "source": [
    "from sklearn.datasets import fetch_openml"
   ]
  },
  {
   "cell_type": "code",
   "execution_count": null,
   "id": "818f5066",
   "metadata": {},
   "outputs": [],
   "source": [
    "mnist = fetch_openml('mnist_784')"
   ]
  },
  {
   "cell_type": "code",
   "execution_count": null,
   "id": "ff67ad78",
   "metadata": {},
   "outputs": [],
   "source": [
    "mnist"
   ]
  },
  {
   "cell_type": "code",
   "execution_count": null,
   "id": "586c8a3d",
   "metadata": {},
   "outputs": [],
   "source": [
    "x,y = mnist['data'], mnist['target']\n",
    "x.info"
   ]
  },
  {
   "cell_type": "code",
   "execution_count": null,
   "id": "c32a0886",
   "metadata": {},
   "outputs": [],
   "source": [
    "%matplotlib inline"
   ]
  },
  {
   "cell_type": "code",
   "execution_count": null,
   "id": "242bc543",
   "metadata": {},
   "outputs": [],
   "source": [
    "import matplotlib\n",
    "import matplotlib.pyplot as plt"
   ]
  },
  {
   "cell_type": "code",
   "execution_count": null,
   "id": "222e507e",
   "metadata": {
    "scrolled": true
   },
   "outputs": [],
   "source": [
    "import numpy as np\n",
    "some_digit = np.array(x.iloc[36005])\n",
    "some_digit_image = np.reshape(some_digit, (28, 28))"
   ]
  },
  {
   "cell_type": "code",
   "execution_count": null,
   "id": "aead3008",
   "metadata": {},
   "outputs": [],
   "source": [
    "import matplotlib\n",
    "import matplotlib.pyplot as plt\n",
    "plt.imshow(some_digit_image, cmap = matplotlib.cm.binary, interpolation = \"nearest\")\n",
    "plt.axis('off')"
   ]
  },
  {
   "cell_type": "code",
   "execution_count": null,
   "id": "a0d71cf3",
   "metadata": {},
   "outputs": [],
   "source": [
    "x_train, x_test = x[:60000], x[60000:]"
   ]
  },
  {
   "cell_type": "code",
   "execution_count": null,
   "id": "ff0f3e7a",
   "metadata": {},
   "outputs": [],
   "source": [
    "y_train, y_test = y[:60000], y[60000:]"
   ]
  },
  {
   "cell_type": "code",
   "execution_count": null,
   "id": "cc274f81",
   "metadata": {},
   "outputs": [],
   "source": [
    "import numpy as np\n",
    "shuffled_index = np.random.permutation(60000)\n",
    "x_train = x_train.sample(frac=1).reset_index(drop=True)"
   ]
  },
  {
   "cell_type": "markdown",
   "id": "3f6e9191",
   "metadata": {},
   "source": [
    "## Creating a 2 detector"
   ]
  },
  {
   "cell_type": "code",
   "execution_count": null,
   "id": "c9ae7761",
   "metadata": {},
   "outputs": [],
   "source": [
    "y_train = y_train.astype(np.int8)\n",
    "y_test = y_test.astype(np.int8)\n",
    "y_train_3 = (y_train==3)\n",
    "y_test_3 = (y_test==3)"
   ]
  },
  {
   "cell_type": "code",
   "execution_count": null,
   "id": "93500d48",
   "metadata": {},
   "outputs": [],
   "source": [
    "# from sklearn.linear_model import LogisticRegression\n",
    "from sklearn.linear_model import SGDClassifier\n",
    "clf = SGDClassifier(loss=\"hinge\", penalty=\"l2\", max_iter=5)"
   ]
  },
  {
   "cell_type": "code",
   "execution_count": null,
   "id": "cef6933a",
   "metadata": {},
   "outputs": [],
   "source": [
    "clf.fit(x_train, y_train_3)"
   ]
  },
  {
   "cell_type": "code",
   "execution_count": null,
   "id": "4c9d5c33",
   "metadata": {},
   "outputs": [],
   "source": [
    "clf.predict([some_digit])"
   ]
  },
  {
   "cell_type": "code",
   "execution_count": null,
   "id": "12aaf129",
   "metadata": {},
   "outputs": [],
   "source": [
    "from sklearn.model_selection import cross_val_score\n",
    "a=cross_val_score(clf, x_train, y_train_3, cv=3, scoring='accuracy')"
   ]
  },
  {
   "cell_type": "code",
   "execution_count": null,
   "id": "7485602b",
   "metadata": {},
   "outputs": [],
   "source": [
    "a.mean()"
   ]
  },
  {
   "cell_type": "code",
   "execution_count": null,
   "id": "a5d69075",
   "metadata": {},
   "outputs": [],
   "source": [
    "from sklearn.model_selection import cross_val_predict\n",
    "y_train_pred = cross_val_predict(clf, x_train, y_train_3, cv=3)"
   ]
  },
  {
   "cell_type": "code",
   "execution_count": null,
   "id": "9984c004",
   "metadata": {},
   "outputs": [],
   "source": [
    "y_train_pred"
   ]
  },
  {
   "cell_type": "markdown",
   "id": "22089acc",
   "metadata": {},
   "source": [
    "## Calculating confusion matrix"
   ]
  },
  {
   "cell_type": "code",
   "execution_count": null,
   "id": "f5dce75b",
   "metadata": {},
   "outputs": [],
   "source": [
    "from sklearn.metrics import confusion_matrix"
   ]
  },
  {
   "cell_type": "code",
   "execution_count": null,
   "id": "c52614d0",
   "metadata": {},
   "outputs": [],
   "source": [
    "confusion_matrix(y_train_3, y_train_pred)"
   ]
  },
  {
   "cell_type": "code",
   "execution_count": null,
   "id": "a002c0c3",
   "metadata": {},
   "outputs": [],
   "source": [
    "#Ideal Confusion Matrix\n",
    "confusion_matrix(y_train_3, y_train_3)"
   ]
  },
  {
   "cell_type": "markdown",
   "id": "a3bd7162",
   "metadata": {},
   "source": [
    "## Precision & Recall"
   ]
  },
  {
   "cell_type": "code",
   "execution_count": null,
   "id": "0dc8ed03",
   "metadata": {},
   "outputs": [],
   "source": [
    "from sklearn.metrics import precision_score, recall_score"
   ]
  },
  {
   "cell_type": "code",
   "execution_count": null,
   "id": "93264a71",
   "metadata": {},
   "outputs": [],
   "source": [
    "precision_score(y_train_3, y_train_pred)"
   ]
  },
  {
   "cell_type": "code",
   "execution_count": null,
   "id": "a430f714",
   "metadata": {},
   "outputs": [],
   "source": [
    "recall_score(y_train_3, y_train_pred)"
   ]
  },
  {
   "cell_type": "markdown",
   "id": "fa7cdc03",
   "metadata": {},
   "source": [
    "## F-1 Score"
   ]
  },
  {
   "cell_type": "code",
   "execution_count": null,
   "id": "30691247",
   "metadata": {},
   "outputs": [],
   "source": [
    "from sklearn.metrics import f1_score"
   ]
  },
  {
   "cell_type": "code",
   "execution_count": null,
   "id": "cd16d262",
   "metadata": {},
   "outputs": [],
   "source": [
    "f1_score(y_train_3, y_train_pred)"
   ]
  },
  {
   "cell_type": "markdown",
   "id": "b5468130",
   "metadata": {},
   "source": [
    "## Precision-Recall curve"
   ]
  },
  {
   "cell_type": "code",
   "execution_count": null,
   "id": "86679e64",
   "metadata": {},
   "outputs": [],
   "source": [
    "from sklearn.metrics import precision_recall_curve"
   ]
  },
  {
   "cell_type": "code",
   "execution_count": null,
   "id": "80b21277",
   "metadata": {},
   "outputs": [],
   "source": [
    "y_scores = cross_val_predict(clf, x_train, y_train_3, cv=3, method = 'decision_function')"
   ]
  },
  {
   "cell_type": "code",
   "execution_count": null,
   "id": "7ab382a5",
   "metadata": {},
   "outputs": [],
   "source": [
    "y_scores"
   ]
  },
  {
   "cell_type": "code",
   "execution_count": null,
   "id": "364263f1",
   "metadata": {},
   "outputs": [],
   "source": [
    "precisions, recalls, thresholds = precision_recall_curve(y_train_3, y_scores)"
   ]
  },
  {
   "cell_type": "code",
   "execution_count": null,
   "id": "296ab73a",
   "metadata": {},
   "outputs": [],
   "source": [
    "precisions"
   ]
  },
  {
   "cell_type": "code",
   "execution_count": null,
   "id": "438241b7",
   "metadata": {},
   "outputs": [],
   "source": [
    "recalls"
   ]
  },
  {
   "cell_type": "code",
   "execution_count": null,
   "id": "a2ca7320",
   "metadata": {},
   "outputs": [],
   "source": [
    "thresholds"
   ]
  },
  {
   "cell_type": "code",
   "execution_count": null,
   "id": "56a8046d",
   "metadata": {},
   "outputs": [],
   "source": [
    "plt.plot(thresholds, precisions[:-1], \"b--\",label='Precision')\n",
    "plt.plot(thresholds, recalls[:-1], \"g-\", label='Recall')\n",
    "plt.xlabel(\"Thresholds\")\n",
    "plt.legend(loc=\"upper left\")\n",
    "plt.ylim([0,1])\n",
    "plt.show()"
   ]
  },
  {
   "cell_type": "code",
   "execution_count": null,
   "id": "6b5e3092",
   "metadata": {},
   "outputs": [],
   "source": []
  }
 ],
 "metadata": {
  "kernelspec": {
   "display_name": "Python 3 (ipykernel)",
   "language": "python",
   "name": "python3"
  },
  "language_info": {
   "codemirror_mode": {
    "name": "ipython",
    "version": 3
   },
   "file_extension": ".py",
   "mimetype": "text/x-python",
   "name": "python",
   "nbconvert_exporter": "python",
   "pygments_lexer": "ipython3",
   "version": "3.9.7"
  }
 },
 "nbformat": 4,
 "nbformat_minor": 5
}
